{
 "cells": [
  {
   "cell_type": "markdown",
   "id": "rural-budapest",
   "metadata": {},
   "source": [
    "# Experiment to the Perfume Suggestions on Basis of Human Mood."
   ]
  },
  {
   "cell_type": "markdown",
   "id": "micro-savannah",
   "metadata": {},
   "source": [
    "## Requirnments to Suggest Mood"
   ]
  },
  {
   "cell_type": "code",
   "execution_count": 1,
   "id": "decent-sitting",
   "metadata": {},
   "outputs": [],
   "source": [
    "\n",
    "options = {\n",
    "           'Happy' : 'Dolce & Gabanna Light Blue',\n",
    "           \n",
    "           'Sad': 'Issey Miyake Leu de Issey',\n",
    "           \n",
    "           'Sexy' : 'Roberto Cavalli Gemma di Paradiso',\n",
    "           \n",
    "           'Lazy' : 'Guerlain Mon Guerlain',\n",
    "           \n",
    "           'Energetic' : 'YSL Libre',\n",
    "           \n",
    "           'Flirty' : 'YSL Mon Paris',\n",
    "           \n",
    "           'Bossy' : 'Burberry My Burberry Black',\n",
    "           \n",
    "           'Naughty' : 'Versace Crystal Noir',\n",
    "           \n",
    "           'Angelic' : 'Amouage Honour',\n",
    "           \n",
    "           'Beautiful' : 'Guerlain Mon Guerlain'\n",
    "           }\n"
   ]
  },
  {
   "cell_type": "markdown",
   "id": "improving-potter",
   "metadata": {},
   "source": [
    "## Defining a Python function to Suggest"
   ]
  },
  {
   "cell_type": "code",
   "execution_count": 2,
   "id": "indian-affect",
   "metadata": {},
   "outputs": [],
   "source": [
    "\n",
    "def suggest(GetMood):\n",
    "    \n",
    "    for key, value in options.items():\n",
    "        \n",
    "        if GetMood in key:\n",
    "            \n",
    "            selection = \"You have to try \" + str(value)\n",
    "            \n",
    "    return selection\n"
   ]
  },
  {
   "cell_type": "markdown",
   "id": "basic-navigation",
   "metadata": {},
   "source": [
    "## Getting Input from User of it's Mood"
   ]
  },
  {
   "cell_type": "code",
   "execution_count": 3,
   "id": "structural-knitting",
   "metadata": {},
   "outputs": [
    {
     "name": "stdout",
     "output_type": "stream",
     "text": [
      "How is Your Mood?\n",
      "Naughty\n"
     ]
    }
   ],
   "source": [
    "\n",
    "GetMood = str(input('How is Your Mood?\\n'))\n"
   ]
  },
  {
   "cell_type": "markdown",
   "id": "medieval-apparatus",
   "metadata": {},
   "source": [
    "## Running complete program"
   ]
  },
  {
   "cell_type": "code",
   "execution_count": 4,
   "id": "pending-westminster",
   "metadata": {},
   "outputs": [
    {
     "data": {
      "text/plain": [
       "'You have to try Versace Crystal Noir'"
      ]
     },
     "execution_count": 4,
     "metadata": {},
     "output_type": "execute_result"
    }
   ],
   "source": [
    "\n",
    "suggest(GetMood)\n"
   ]
  },
  {
   "cell_type": "markdown",
   "id": "intended-springer",
   "metadata": {},
   "source": [
    "## Program Samples"
   ]
  },
  {
   "cell_type": "code",
   "execution_count": 6,
   "id": "regulated-tradition",
   "metadata": {},
   "outputs": [
    {
     "name": "stdout",
     "output_type": "stream",
     "text": [
      "How is Your Mood?\n",
      "Bossy\n"
     ]
    },
    {
     "data": {
      "text/plain": [
       "'You have to try Burberry My Burberry Black'"
      ]
     },
     "execution_count": 6,
     "metadata": {},
     "output_type": "execute_result"
    }
   ],
   "source": [
    "\n",
    "GetMood = str(input('How is Your Mood?\\n'))\n",
    "\n",
    "suggest(GetMood)\n"
   ]
  },
  {
   "cell_type": "code",
   "execution_count": 8,
   "id": "political-thousand",
   "metadata": {},
   "outputs": [
    {
     "name": "stdout",
     "output_type": "stream",
     "text": [
      "How is Your Mood?\n",
      "Sexy\n"
     ]
    },
    {
     "data": {
      "text/plain": [
       "'You have to try Roberto Cavalli Gemma di Paradiso'"
      ]
     },
     "execution_count": 8,
     "metadata": {},
     "output_type": "execute_result"
    }
   ],
   "source": [
    "\n",
    "GetMood = str(input('How is Your Mood?\\n'))\n",
    "\n",
    "suggest(GetMood)\n"
   ]
  },
  {
   "cell_type": "markdown",
   "id": "ambient-survivor",
   "metadata": {},
   "source": [
    "# End here"
   ]
  }
 ],
 "metadata": {
  "kernelspec": {
   "display_name": "Python 3",
   "language": "python",
   "name": "python3"
  },
  "language_info": {
   "codemirror_mode": {
    "name": "ipython",
    "version": 3
   },
   "file_extension": ".py",
   "mimetype": "text/x-python",
   "name": "python",
   "nbconvert_exporter": "python",
   "pygments_lexer": "ipython3",
   "version": "3.7.10"
  }
 },
 "nbformat": 4,
 "nbformat_minor": 5
}
